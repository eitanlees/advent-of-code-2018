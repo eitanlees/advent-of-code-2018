{
 "cells": [
  {
   "cell_type": "markdown",
   "metadata": {},
   "source": [
    "# Advent of Code 2018 - Day 04"
   ]
  },
  {
   "cell_type": "markdown",
   "metadata": {},
   "source": [
    "## Part 1"
   ]
  },
  {
   "cell_type": "code",
   "execution_count": 1,
   "metadata": {},
   "outputs": [],
   "source": [
    "import numpy as np"
   ]
  },
  {
   "cell_type": "code",
   "execution_count": 2,
   "metadata": {},
   "outputs": [],
   "source": [
    "with open('input/05.txt') as f:\n",
    "    data = f.read().split()[0]"
   ]
  },
  {
   "cell_type": "code",
   "execution_count": 3,
   "metadata": {},
   "outputs": [],
   "source": [
    "def reaction(polymer):\n",
    "    letter_list = np.array(list(polymer))\n",
    "\n",
    "    check = 1\n",
    "\n",
    "    while check > 0:\n",
    "        \n",
    "        i = 0\n",
    "        letter_mask = np.zeros(len(letter_list))\n",
    "        \n",
    "        while i < len(letter_list)-1:\n",
    "            \n",
    "            # Letters to compare\n",
    "            letter_1 = letter_list[i]\n",
    "            letter_2 = letter_list[i+1]\n",
    "            # Check is same letter\n",
    "            is_same_letter = letter_1.lower() == letter_2.lower()\n",
    "\n",
    "            # Check if one is upper and other is lower\n",
    "            if letter_1.isupper() and letter_2.islower() and is_same_letter:\n",
    "                letter_mask[i] = letter_mask[i+1] = 1\n",
    "                i+=2\n",
    "                continue\n",
    "            elif letter_1.islower() and letter_2.isupper() and is_same_letter:\n",
    "                letter_mask[i] = letter_mask[i+1] = 1\n",
    "                i+=2\n",
    "                continue\n",
    "\n",
    "            i+=1\n",
    "\n",
    "        check = letter_mask.sum()\n",
    "\n",
    "        # Remove letters \n",
    "        for i in range(len(letter_list)):\n",
    "            if letter_mask[i]:\n",
    "                letter_list[i] = ''\n",
    "\n",
    "        # Update letter list\n",
    "        letter_list = list(''.join(letter_list))\n",
    "    return ''.join(letter_list)"
   ]
  },
  {
   "cell_type": "code",
   "execution_count": 4,
   "metadata": {},
   "outputs": [],
   "source": [
    "new_polymer = reaction(data)"
   ]
  },
  {
   "cell_type": "code",
   "execution_count": 5,
   "metadata": {},
   "outputs": [
    {
     "data": {
      "text/plain": [
       "11310"
      ]
     },
     "execution_count": 5,
     "metadata": {},
     "output_type": "execute_result"
    }
   ],
   "source": [
    "len(new_polymer)"
   ]
  },
  {
   "cell_type": "markdown",
   "metadata": {},
   "source": [
    "## Part 2"
   ]
  },
  {
   "cell_type": "code",
   "execution_count": 6,
   "metadata": {},
   "outputs": [],
   "source": [
    "from string import ascii_lowercase, ascii_uppercase"
   ]
  },
  {
   "cell_type": "code",
   "execution_count": 7,
   "metadata": {},
   "outputs": [],
   "source": [
    "reaction_list = []\n",
    "for upper, lower in zip(ascii_uppercase, ascii_lowercase):\n",
    "    polymer = data\n",
    "    polymer = polymer.replace(upper, '')\n",
    "    polymer = polymer.replace(lower, '')\n",
    "    reaction_list.append(len(reaction(polymer)))"
   ]
  },
  {
   "cell_type": "code",
   "execution_count": 8,
   "metadata": {},
   "outputs": [
    {
     "data": {
      "text/plain": [
       "6020"
      ]
     },
     "execution_count": 8,
     "metadata": {},
     "output_type": "execute_result"
    }
   ],
   "source": [
    "min(reaction_list)"
   ]
  }
 ],
 "metadata": {
  "kernelspec": {
   "display_name": "Python 3",
   "language": "python",
   "name": "python3"
  },
  "language_info": {
   "codemirror_mode": {
    "name": "ipython",
    "version": 3
   },
   "file_extension": ".py",
   "mimetype": "text/x-python",
   "name": "python",
   "nbconvert_exporter": "python",
   "pygments_lexer": "ipython3",
   "version": "3.6.7"
  }
 },
 "nbformat": 4,
 "nbformat_minor": 2
}
